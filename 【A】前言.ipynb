{
 "cells": [
  {
   "cell_type": "markdown",
   "id": "4219b911-3e91-4ed5-bf03-e89336c24be9",
   "metadata": {
    "tags": []
   },
   "source": [
    "## 引言\n",
    "2025-4-30\n",
    "本代码主要实现单张相片的窗户语义分割，为二分语义分割代码。主要通过FastSCNN和DeepLabV3+在LOD3_buildings数据集上找的最优立面影像进行分割。\n",
    "训练数据集来源：https://github.com/lck1201/win_det_heatmaps\n",
    "\n",
    "\n",
    "\n",
    "\n",
    "\n",
    "\n",
    "\n",
    "## 资源链接\n",
    "\n",
    "OpenMMLab主页：https://openmmlab.com\n",
    "\n",
    "OpenMMLab各算法库介绍：https://www.bilibili.com/video/BV1js4y1i72P\n",
    "\n",
    "OpenMMLab开源语义分割算法库MMSegmentation：https://github.com/open-mmlab/mmsegmentation\n",
    "\n",
    "AI算力云GPU平台Featurize\n",
    "\n",
    "https://featurize.cn?s=d7ce99f842414bfcaea5662a97581bd1\n"
   ]
  }
 ],
 "metadata": {
  "kernelspec": {
   "display_name": "Python 3 (ipykernel)",
   "language": "python",
   "name": "python3"
  },
  "language_info": {
   "codemirror_mode": {
    "name": "ipython",
    "version": 3
   },
   "file_extension": ".py",
   "mimetype": "text/x-python",
   "name": "python",
   "nbconvert_exporter": "python",
   "pygments_lexer": "ipython3",
   "version": "3.11.7"
  }
 },
 "nbformat": 4,
 "nbformat_minor": 5
}
