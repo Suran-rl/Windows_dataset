{
 "cells": [
  {
   "cell_type": "markdown",
   "id": "c669bd26-b5b8-40ad-b087-ef8324985c6f",
   "metadata": {},
   "source": [
    "# 下载语义分割数据集\n"
   ]
  },
  {
   "cell_type": "markdown",
   "id": "c1229f75-1171-4719-b0ba-fb7a6f66708e",
   "metadata": {},
   "source": [
    "## 进入`mmsegmentation`主目录"
   ]
  },
  {
   "cell_type": "code",
   "execution_count": 1,
   "id": "3bbc07c1-0207-4f2a-a99e-e1452dee5d01",
   "metadata": {},
   "outputs": [],
   "source": [
    "import os\n",
    "os.chdir('/home/featurize/work/mmsegmentation')"
   ]
  },
  {
   "cell_type": "code",
   "execution_count": 2,
   "id": "d62a9d6c-a6b6-4314-9505-c7f2d3fc9a55",
   "metadata": {},
   "outputs": [
    {
     "data": {
      "text/plain": [
       "'/home/featurize/work/mmsegmentation'"
      ]
     },
     "execution_count": 2,
     "metadata": {},
     "output_type": "execute_result"
    }
   ],
   "source": [
    "os.getcwd()"
   ]
  },
  {
   "cell_type": "markdown",
   "id": "d74686a7-e394-4316-8f96-af07554966aa",
   "metadata": {},
   "source": [
    "## 下载整理好之后的数据集\n",
    "#数据集来源：https://github.com/lck1201/win_det_heatmaps"
   ]
  },
  {
   "cell_type": "code",
   "execution_count": 3,
   "id": "a1dfb635-ecf4-43f5-8e1a-4c8d5b8aa603",
   "metadata": {},
   "outputs": [
    {
     "name": "stdout",
     "output_type": "stream",
     "text": [
      "--2025-04-30 12:51:37--  https://windowsdataset.oss-cn-shenzhen.aliyuncs.com/window_dataset.zip\n",
      "正在连接 172.16.0.13:5848... 已连接。\n",
      "已发出 Proxy 请求，正在等待回应... 200 OK\n",
      "长度： 1045862708 (997M) [application/zip]\n",
      "正在保存至: “window_dataset.zip”\n",
      "\n",
      "window_dataset.zip  100%[===================>] 997.41M  63.1MB/s    用时 21s     \n",
      "\n",
      "2025-04-30 12:52:00 (47.0 MB/s) - 已保存 “window_dataset.zip” [1045862708/1045862708])\n",
      "\n"
     ]
    }
   ],
   "source": [
    "# 删除旧数据（如有）\n",
    "# !rm -rf window_dataset.zip window_dataset\n",
    "\n",
    "\n",
    "# 从阿里云OSS下载\n",
    "!wget https://windowsdataset.oss-cn-shenzhen.aliyuncs.com/window_dataset.zip\n",
    "\n",
    "# 解压\n",
    "!unzip window_dataset.zip -d window_dataset >> /dev/null\n",
    "\n",
    "# 清理压缩包\n",
    "!rm -rf window_dataset.zip"
   ]
  },
  {
   "cell_type": "markdown",
   "id": "091f4492-a74e-412d-b404-1001a5fc7841",
   "metadata": {},
   "source": [
    "在`mmsegmentation`主目录中，出现文件夹`window_dataset`"
   ]
  },
  {
   "cell_type": "markdown",
   "id": "be6d3b1c-f4f7-46ac-9945-02635594f7d8",
   "metadata": {
    "tags": []
   },
   "source": [
    "## 删除系统自动生成的多余文件\n",
    "这一步非常重要，不删干净后面运行的时候容易出各种错误和bug"
   ]
  },
  {
   "cell_type": "markdown",
   "id": "356428f7-db87-4fc9-9873-e1cf1b5088db",
   "metadata": {},
   "source": [
    "### 查看待删除的多余文件"
   ]
  },
  {
   "cell_type": "code",
   "execution_count": 7,
   "id": "e3d19ea4-f543-4bdd-acc4-994555857928",
   "metadata": {},
   "outputs": [],
   "source": [
    "!find . -iname '__MACOSX'"
   ]
  },
  {
   "cell_type": "code",
   "execution_count": 8,
   "id": "e11b9512-584e-460a-a9aa-4f39a2c4e0ba",
   "metadata": {},
   "outputs": [],
   "source": [
    "!find . -iname '.DS_Store'"
   ]
  },
  {
   "cell_type": "code",
   "execution_count": 9,
   "id": "7b85e491-0497-49ff-84b6-1991b096c42d",
   "metadata": {},
   "outputs": [],
   "source": [
    "!find . -iname '.ipynb_checkpoints'"
   ]
  },
  {
   "cell_type": "markdown",
   "id": "8a9de3ce-9237-4db7-a667-2847663a3161",
   "metadata": {},
   "source": [
    "### 删除多余文件"
   ]
  },
  {
   "cell_type": "code",
   "execution_count": 10,
   "id": "5240771b-5535-4150-90be-c002bd7b8baa",
   "metadata": {},
   "outputs": [],
   "source": [
    "!for i in `find . -iname '__MACOSX'`; do rm -rf $i;done"
   ]
  },
  {
   "cell_type": "code",
   "execution_count": 11,
   "id": "699b2af5-63a1-41fc-adb3-488e3f4bf01e",
   "metadata": {},
   "outputs": [],
   "source": [
    "!for i in `find . -iname '.DS_Store'`; do rm -rf $i;done"
   ]
  },
  {
   "cell_type": "code",
   "execution_count": 12,
   "id": "7e530f61-072a-4d16-a4bf-c8ab99cdeeb1",
   "metadata": {},
   "outputs": [],
   "source": [
    "!for i in `find . -iname '.ipynb_checkpoints'`; do rm -rf $i;done"
   ]
  },
  {
   "cell_type": "markdown",
   "id": "f5f67d64-acb3-48fb-ad42-9a30c8aab536",
   "metadata": {},
   "source": [
    "### 验证多余文件已删除"
   ]
  },
  {
   "cell_type": "code",
   "execution_count": 13,
   "id": "2f9228d1-8426-4b48-8b6a-84096b26b095",
   "metadata": {},
   "outputs": [],
   "source": [
    "!find . -iname '__MACOSX'"
   ]
  },
  {
   "cell_type": "code",
   "execution_count": 14,
   "id": "ac3dbe7d-c347-4d67-8074-da4915507526",
   "metadata": {},
   "outputs": [],
   "source": [
    "!find . -iname '.DS_Store'"
   ]
  },
  {
   "cell_type": "code",
   "execution_count": 15,
   "id": "500ec0a3-6399-4d18-b53c-9ea4248635da",
   "metadata": {},
   "outputs": [],
   "source": [
    "!find . -iname '.ipynb_checkpoints'"
   ]
  },
  {
   "cell_type": "markdown",
   "id": "d77ec0f8-53ee-46f3-9a4f-b04ed02905f3",
   "metadata": {},
   "source": [
    "## 查看文件夹目录结构"
   ]
  },
  {
   "cell_type": "code",
   "execution_count": 16,
   "id": "89f12a9e-9858-46b5-9f1b-62447a7c5118",
   "metadata": {},
   "outputs": [
    {
     "name": "stdout",
     "output_type": "stream",
     "text": [
      "Looking in indexes: https://pypi.tuna.tsinghua.edu.cn/simple\n",
      "Collecting seedir\n",
      "  Downloading https://pypi.tuna.tsinghua.edu.cn/packages/e5/b4/0f5c167f3ab597c693f4c98d3bcaad940cc8a1529ce4029d8e988d0f52da/seedir-0.5.0-py3-none-any.whl (112 kB)\n",
      "\u001b[K     |████████████████████████████████| 112 kB 67.0 MB/s eta 0:00:01\n",
      "\u001b[?25hCollecting emoji\n",
      "  Downloading https://pypi.tuna.tsinghua.edu.cn/packages/91/db/a0335710caaa6d0aebdaa65ad4df789c15d89b7babd9a30277838a7d9aac/emoji-2.14.1-py3-none-any.whl (590 kB)\n",
      "\u001b[K     |████████████████████████████████| 590 kB 91.9 MB/s eta 0:00:01\n",
      "\u001b[?25hCollecting natsort\n",
      "  Downloading https://pypi.tuna.tsinghua.edu.cn/packages/ef/82/7a9d0550484a62c6da82858ee9419f3dd1ccc9aa1c26a1e43da3ecd20b0d/natsort-8.4.0-py3-none-any.whl (38 kB)\n",
      "Collecting typing_extensions>=4.7.0\n",
      "  Downloading https://pypi.tuna.tsinghua.edu.cn/packages/ec/6b/63cc3df74987c36fe26157ee12e09e8f9db4de771e0f3404263117e75b95/typing_extensions-4.7.1-py3-none-any.whl (33 kB)\n",
      "Installing collected packages: typing-extensions, natsort, seedir, emoji\n",
      "  Attempting uninstall: typing-extensions\n",
      "    Found existing installation: typing-extensions 4.0.1\n",
      "    Uninstalling typing-extensions-4.0.1:\n",
      "      Successfully uninstalled typing-extensions-4.0.1\n",
      "Successfully installed emoji-2.14.1 natsort-8.4.0 seedir-0.5.0 typing-extensions-4.7.1\n"
     ]
    }
   ],
   "source": [
    "!pip install seedir emoji -i https://pypi.tuna.tsinghua.edu.cn/simple"
   ]
  },
  {
   "cell_type": "code",
   "execution_count": 17,
   "id": "928c76db-9eb7-4fd8-a7bb-340ba2c4db4d",
   "metadata": {},
   "outputs": [
    {
     "name": "stdout",
     "output_type": "stream",
     "text": [
      "📁 window_dataset/\n",
      "└─📁 window_dataset/\n",
      "  ├─📁 ann_dir/\n",
      "  │ ├─📁 vel/\n",
      "  │ └─📁 train/\n",
      "  └─📁 img_dir/\n",
      "    ├─📁 vel/\n",
      "    └─📁 train/\n"
     ]
    }
   ],
   "source": [
    "import seedir as sd\n",
    "sd.seedir('window_dataset', style='emoji', depthlimit=3)"
   ]
  },
  {
   "cell_type": "markdown",
   "id": "e56b0981-19a3-4017-b942-59dcc8a1b0f7",
   "metadata": {},
   "source": [
    "这个地方需要注意一下，就是笨人把val输入成vel了，但是后面的代码编写方式均为val，所以后面运行的时候把名称改一下不然会报错。\n",
    "还有这个文件夹位置，放在window_dataset即可，不小心多套了一层window_dataset的文件夹，麻烦自己手动改一下位置吧。"
   ]
  }
 ],
 "metadata": {
  "kernelspec": {
   "display_name": "Python 3 (ipykernel)",
   "language": "python",
   "name": "python3"
  },
  "language_info": {
   "codemirror_mode": {
    "name": "ipython",
    "version": 3
   },
   "file_extension": ".py",
   "mimetype": "text/x-python",
   "name": "python",
   "nbconvert_exporter": "python",
   "pygments_lexer": "ipython3",
   "version": "3.11.7"
  }
 },
 "nbformat": 4,
 "nbformat_minor": 5
}
