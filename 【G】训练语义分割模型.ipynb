{
 "cells": [
  {
   "cell_type": "markdown",
   "id": "54f01792-37fc-4889-8cdf-5b5c0218f4c2",
   "metadata": {},
   "source": [
    "# 训练语义分割模型\n",
    "\n",
    "2025-4-30"
   ]
  },
  {
   "cell_type": "markdown",
   "id": "895c5c8e-9683-4e88-a906-01e6f892fff6",
   "metadata": {
    "jp-MarkdownHeadingCollapsed": true,
    "tags": []
   },
   "source": [
    "## config配置文件（任选其一）\n",
    "\n",
    "- windowdataset_DeepLabV3plus_20250430.py\n",
    "\n",
    "- windowdataset_FastSCNN_20250430.py"
   ]
  },
  {
   "cell_type": "markdown",
   "id": "e053fb95-8c8d-4ec4-b165-119d8adf6fb6",
   "metadata": {},
   "source": [
    "## 方式一：在命令行中运行（推荐）\n",
    "\n",
    "```shell\n",
    "cd mmsegmentation\n",
    "\n",
    "python tools/train.py My-Configs/windowdataset_DeepLabV3plus_20250430.py\n",
    "python tools/train.py My-Configs/windowdataset_FastSCNN_20250430.py\n",
    "```"
   ]
  },
  {
   "cell_type": "markdown",
   "id": "941cb87e-bae9-4863-81c8-4fc83fa3e8ca",
   "metadata": {},
   "source": [
    "## 方式二：在Notebook中运行"
   ]
  },
  {
   "cell_type": "code",
   "execution_count": 2,
   "id": "6ece87c2-7b4d-413d-8a47-b34a07f4570d",
   "metadata": {},
   "outputs": [],
   "source": [
    "# 进入MMSegmentation主目录\n",
    "import os\n",
    "os.chdir('mmsegmentation')"
   ]
  },
  {
   "cell_type": "code",
   "execution_count": 3,
   "id": "5d6c698f-dfc9-426a-bf49-5605aa37fd92",
   "metadata": {},
   "outputs": [
    {
     "data": {
      "text/plain": [
       "'/home/featurize/work/mmsegmentation'"
      ]
     },
     "execution_count": 3,
     "metadata": {},
     "output_type": "execute_result"
    }
   ],
   "source": [
    "os.getcwd()"
   ]
  },
  {
   "cell_type": "code",
   "execution_count": 2,
   "id": "164d6f92-68ae-4957-85c3-e69474418240",
   "metadata": {},
   "outputs": [],
   "source": [
    "# 开始训练\n",
    "!python tools/train.py My-Configs/windowdataset_FastSCNN_20250430.py.py"
   ]
  },
  {
   "cell_type": "markdown",
   "id": "6aa9e5f1-f579-4f16-aa97-ca02c1bb29f8",
   "metadata": {},
   "source": [
    "## 如果遇到报错`CUDA out of memeory`，可尝试以下步骤：\n",
    "\n",
    "1. 调小 batch size\n",
    "\n",
    "2. 左上角`内核-关闭所有内核`，释放其它notebook占用的显存\n",
    "\n",
    "3. 重启实例，或者使用显存更高的实例\n",
    "\n",
    "## 训练结果（日志、模型权重文件）保存在`work_dirs`目录"
   ]
  }
 ],
 "metadata": {
  "kernelspec": {
   "display_name": "Python 3 (ipykernel)",
   "language": "python",
   "name": "python3"
  },
  "language_info": {
   "codemirror_mode": {
    "name": "ipython",
    "version": 3
   },
   "file_extension": ".py",
   "mimetype": "text/x-python",
   "name": "python",
   "nbconvert_exporter": "python",
   "pygments_lexer": "ipython3",
   "version": "3.11.7"
  }
 },
 "nbformat": 4,
 "nbformat_minor": 5
}
